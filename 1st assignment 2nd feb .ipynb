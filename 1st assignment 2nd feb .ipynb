{
 "cells": [
  {
   "cell_type": "markdown",
   "id": "982661c3-d541-4622-8c62-dab3ab34efc3",
   "metadata": {},
   "source": [
    "Q1. What are the characteristics of the tuples? Is tuple immutable?\n",
    "Ans. They are indexed\n",
    "Tuples are ordered\n",
    "These are immutable\n",
    "They can contain duplicate items.\n",
    "\n",
    "Yes tuple is immutable\n"
   ]
  },
  {
   "cell_type": "markdown",
   "id": "25629af5-6701-4e58-bcda-54b9760a62ba",
   "metadata": {},
   "source": [
    "Q2. What are the two tuple methods in python? Give an example of each method. Give a reason why tuples have only two in-built methods as compared to Lists. \n",
    "Ans: 1. count thistuple = (1, 3, 7, 8, 7, 5, 4, 6, 8, 5)\n",
    "\n",
    "x = thistuple.count(5)\n",
    "\n",
    "print(x)\n",
    "    2. index\n",
    "    thistuple = (1, 3, 7, 8, 7, 5, 4, 6, 8, 5)\n",
    "\n",
    "x = thistuple.index(8)\n",
    "\n",
    "print(x)\n",
    "\n",
    "Tuples have only two in-built methods because they are designed to be immutable, while lists are mutable and therefore have more in-built methods to perform various operations. Tuples are mainly used for fixed collections of data that will not change, while lists are ideal for dynamic collections of data that are subject to change.\n"
   ]
  },
  {
   "cell_type": "markdown",
   "id": "2dd5b3d5-b23c-4867-afce-364f75124628",
   "metadata": {},
   "source": [
    "Q3. Which collection datatypes in python do not allow duplicate items? Write a code using a set to remove\n",
    "duplicates from the given list.\n",
    "\n",
    "Ans: The collection datatype in Python that does not allow duplicate items is the Sets. A set is an unordered collection of unique elements. When you create a set, Python only keeps track of the unique elements in the collection, discarding any duplicates. This means that every element in the set is by definition unique. \n",
    "\n",
    "\n"
   ]
  },
  {
   "cell_type": "code",
   "execution_count": 8,
   "id": "a3f2eb80-b490-4ca3-8911-851e6ad5cc5d",
   "metadata": {},
   "outputs": [],
   "source": [
    "List1= {1, 1, 1, 2, 1, 3, 1, 4, 2, 1, 2, 2, 2, 3, 2, 4, 3, 1, 3, 2, 3, 3, 3, 4, 4, 1, 4, 2, 4, 3, 4, 4}"
   ]
  },
  {
   "cell_type": "code",
   "execution_count": 11,
   "id": "b2bac21b-f2ac-47a7-b917-2eafd86cd064",
   "metadata": {},
   "outputs": [
    {
     "data": {
      "text/plain": [
       "{1, 2, 3, 4}"
      ]
     },
     "execution_count": 11,
     "metadata": {},
     "output_type": "execute_result"
    }
   ],
   "source": [
    "List"
   ]
  },
  {
   "cell_type": "markdown",
   "id": "e79dab1d-c389-47c0-87b8-bb6e7801f1b8",
   "metadata": {},
   "source": [
    "Q4. Explain the difference between the union() and update() methods for a set. Give an example of\n",
    "each method.\n",
    "\n",
    "Ans: set.update() and set.union() perform the union operation. However, set.update() adds all missing elements to the set on which it is called whereas set.union() creates a new set. Consequently, the return value of set.update() is None (with side effects) and the return value of set.union() is a set (without side effects)."
   ]
  },
  {
   "cell_type": "markdown",
   "id": "60d9ec64-b615-4e62-88f9-a5975515843a",
   "metadata": {},
   "source": [
    "Q5. What is a dictionary? Give an example. Also, state whether a dictionary is ordered or unordered. \n",
    "Ans. Dictionary is a built-in data type that stores data in key-value pairs. Each key in a dictionary maps to a corresponding value.\n",
    "\n",
    "my_dict = {'name': 'John', 'age': 30, 'gender': 'male'}\n",
    "print(my_dict['name']) \n",
    "\n",
    "As of Python version 3.7, dictionaries are ordered. In Python 3.6 and earlier, dictionaries are unordered."
   ]
  },
  {
   "cell_type": "markdown",
   "id": "92d95138-27b4-41fc-858d-c87b9e704d5b",
   "metadata": {},
   "source": [
    "Q6. Can we create a nested dictionary? If so, please give an example by creating a simple one-level  nested dictionary.\n",
    "\n",
    "Ans. Yes, in Python, we can create a nested dictionary, which is a dictionary that contains one or more dictionaries as values for its keys.\n",
    "Here's an example of a simple one-level nested dictionary in Python\n",
    "\n",
    "my_dict = {'person1': {'name': 'John', 'age': 30}, 'person2': {'name': 'Jane', 'age': 25}}\n",
    "\n",
    "In this example, the keys 'person1' and 'person2' each have a value that is itself a dictionary with keys 'name' and 'age' mapping to the corresponding values for each person. To access the nested dictionaries, we can use multiple indexing operations. For example, to get the name of 'person1', we would use:\n",
    "\n",
    "print(my_dict['person1']['name'])  \n",
    "\n",
    "We can also add or modify key-value pairs in a nested dictionary using similar operations. For example, to add a new key 'location' with value 'New York' for 'person1', we would use:\n",
    "\n",
    "my_dict['person1']['location'] = 'New York'\n",
    "\n",
    "This adds a new key-value pair to the nested dictionary associated with the key 'person1'. Similarly, to modify the age of 'person2', we would use: my_dict['person2']['age'] = 27\n",
    "\n",
    "This modifies the value associated with the key 'age' in the nested dictionary associated with the key 'person2'."
   ]
  },
  {
   "cell_type": "markdown",
   "id": "6b277c75-afb1-4838-9ad2-eab3529576f4",
   "metadata": {},
   "source": [
    "Q7. Using setdefault() method, create key named topics in the given dictionary and also add the value of  the key as this list ['Python', 'Machine Learning’, 'Deep Learning'] \n",
    "dict1 = {'language' : 'Python', 'course': 'Data Science Masters'} \n",
    "\n",
    "Ans. # Example code to use setdefault() method to add a key and value to a dictionary\n",
    "\n",
    "# Define the dictionary\n",
    "dict1 = {'language' : 'Python', 'course': 'Data Science Masters'}\n",
    "\n",
    "# Use setdefault() method to add the 'topics' key and its value\n",
    "dict1.setdefault('topics', ['Python', 'Machine Learning', 'Deep Learning'])\n",
    "\n",
    "# Print the updated dictionary\n",
    "print(dict1)\n",
    "\n",
    " dict1 with two key-value pairs. We then use the setdefault() method to add the \"topics\" key and set its value to the list ['Python', 'Machine Learning', 'Deep Learning']. The setdefault() method checks if the key \"topics\" already exists in the dictionary. Since it doesn't exist, it adds the key with its default value to the dictionary. Finally, we print the updated dictionary to verify that the key and its value have been added.\n"
   ]
  },
  {
   "cell_type": "markdown",
   "id": "5f24988d-b5a8-4c96-b088-697d38e8bab8",
   "metadata": {},
   "source": [
    "Q8. What are the three view objects in dictionaries? Use the three in-built methods in python to display  these three view objects for the given dictionary. \n",
    "dict1 = {'Sport': 'Cricket' , 'Teams': ['India', 'Australia', 'England', 'South Africa', 'Sri Lanka', 'New Zealand']} \n",
    "\n",
    "\n",
    "Ans. In Python dictionaries, there are three types of view objects that can be used to represent the keys, values, and key-value pairs of a dictionary. These view objects are:\n",
    "\n",
    "dict_keys: This view object represents the keys of the dictionary.\n",
    "dict_values: This view object represents the values of the dictionary.\n",
    "dict_items: This view object represents the key-value pairs of the dictionary.\n",
    "\n",
    "Example code to display the three view objects in a dictionary\n",
    "\n",
    "Define the dictionary\n",
    "dict1 = {'Sport': 'Cricket' , 'Teams': ['India', 'Australia', 'England', 'South Africa', 'Sri Lanka', 'New Zealand']}\n",
    "\n",
    " Display the dict_keys view object\n",
    "print(\"dict_keys view object: \")\n",
    "print(dict1.keys())\n",
    "\n",
    " Display the dict_values view object\n",
    "print(\"\\ndict_values view object: \")\n",
    "print(dict1.values())\n",
    "\n",
    " Display the dict_items view object\n",
    "print(\"\\ndict_items view object: \")\n",
    "print(dict1.items())\n",
    "\n",
    "we first define the dictionary dict1 with a key-value pair for \"Sport\" and a key-value pair for \"Teams\". We then use the three in-built methods keys(), values(), and items() to display the dict_keys, dict_values, and dict_items view objects, respectively. The keys() method returns the keys of the dictionary as a dict_keys view object, the values() method returns the values of the dictionary as a dict_values view object, and the items() method returns the key-value pairs of the dictionary as a dict_items view object. Finally, we print the three view objects to the console to verify that they have been created correctly."
   ]
  }
 ],
 "metadata": {
  "kernelspec": {
   "display_name": "Python 3 (ipykernel)",
   "language": "python",
   "name": "python3"
  },
  "language_info": {
   "codemirror_mode": {
    "name": "ipython",
    "version": 3
   },
   "file_extension": ".py",
   "mimetype": "text/x-python",
   "name": "python",
   "nbconvert_exporter": "python",
   "pygments_lexer": "ipython3",
   "version": "3.10.8"
  }
 },
 "nbformat": 4,
 "nbformat_minor": 5
}
